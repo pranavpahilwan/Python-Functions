{
 "cells": [
  {
   "cell_type": "markdown",
   "id": "b474066d-e471-4964-888e-5202b3a9f1c8",
   "metadata": {
    "jp-MarkdownHeadingCollapsed": true,
    "tags": []
   },
   "source": [
    "### Q1. Which keyword is used to create a function? Create a function to return a list of odd numbers in the range of 1 to 25."
   ]
  },
  {
   "cell_type": "markdown",
   "id": "3a268fae-e72c-46de-ad36-800fac995c79",
   "metadata": {},
   "source": [
    "'def' this keyword is used to create a function"
   ]
  },
  {
   "cell_type": "code",
   "execution_count": 9,
   "id": "f6bc3448-8969-4d3c-8043-2d0ae57e54a4",
   "metadata": {},
   "outputs": [],
   "source": [
    "def odd():\n",
    "    for i in range(1,26):\n",
    "        if i%2 !=0:\n",
    "            print(i)"
   ]
  },
  {
   "cell_type": "code",
   "execution_count": 10,
   "id": "69c0632c-0cce-4f23-9b09-186d7dd7777a",
   "metadata": {},
   "outputs": [
    {
     "name": "stdout",
     "output_type": "stream",
     "text": [
      "1\n",
      "3\n",
      "5\n",
      "7\n",
      "9\n",
      "11\n",
      "13\n",
      "15\n",
      "17\n",
      "19\n",
      "21\n",
      "23\n",
      "25\n"
     ]
    }
   ],
   "source": [
    "odd()"
   ]
  },
  {
   "cell_type": "markdown",
   "id": "f19edf36-7f3c-4ec4-915d-4e17d1d29723",
   "metadata": {
    "jp-MarkdownHeadingCollapsed": true,
    "tags": []
   },
   "source": [
    "### Q2. Why *args and **kwargs is used in some functions? Create a function each for *args and **kwargs to demonstrate their use."
   ]
  },
  {
   "cell_type": "code",
   "execution_count": 11,
   "id": "530b2273-f15e-4615-abf0-fd3e1b0b8d1b",
   "metadata": {},
   "outputs": [],
   "source": [
    "# with the help of '*args' we can take multiple number of arguments and call it\n",
    "def args(*args):\n",
    "    return args"
   ]
  },
  {
   "cell_type": "code",
   "execution_count": 12,
   "id": "5b4f7b05-d056-4478-ae65-89c08fb58f6b",
   "metadata": {},
   "outputs": [
    {
     "data": {
      "text/plain": [
       "(1, 2, 43, 4)"
      ]
     },
     "execution_count": 12,
     "metadata": {},
     "output_type": "execute_result"
    }
   ],
   "source": [
    "args(1,2,43,4)"
   ]
  },
  {
   "cell_type": "code",
   "execution_count": 13,
   "id": "328926b3-3c3c-49a6-b12a-3d31f979f7e0",
   "metadata": {},
   "outputs": [],
   "source": [
    "# with the help of '**kwargs' we can we take multiple arguments in the form of key-value pair\n",
    "def kwa(**kwargs):\n",
    "    return kwargs"
   ]
  },
  {
   "cell_type": "code",
   "execution_count": 14,
   "id": "ff70e5e1-37bd-4c57-861c-e2ce922fa4ac",
   "metadata": {},
   "outputs": [
    {
     "data": {
      "text/plain": [
       "{}"
      ]
     },
     "execution_count": 14,
     "metadata": {},
     "output_type": "execute_result"
    }
   ],
   "source": [
    "kwa()"
   ]
  },
  {
   "cell_type": "code",
   "execution_count": 15,
   "id": "0f569eb3-63cf-435a-abb7-6b213d8ed3f6",
   "metadata": {},
   "outputs": [
    {
     "data": {
      "text/plain": [
       "{'a': 23, 'b': 45, 'c': 'tom'}"
      ]
     },
     "execution_count": 15,
     "metadata": {},
     "output_type": "execute_result"
    }
   ],
   "source": [
    "kwa(a=23, b=45,c='tom')"
   ]
  },
  {
   "cell_type": "markdown",
   "id": "fe4e065d-caba-4da2-941e-005142074b1c",
   "metadata": {
    "jp-MarkdownHeadingCollapsed": true,
    "tags": []
   },
   "source": [
    "### Q3. What is an iterator in python? Name the method used to initialise the iterator object and the method used for iteration. Use these methods to print the first five elements of the given list [2, 4, 6, 8, 10, 12, 14, 16, 18, 20]."
   ]
  },
  {
   "cell_type": "code",
   "execution_count": 16,
   "id": "36280bfe-75a3-4aa8-9a1b-4581caa6154a",
   "metadata": {},
   "outputs": [],
   "source": [
    "alst=[2, 4, 6, 8, 10, 12, 14, 16,18, 20]"
   ]
  },
  {
   "cell_type": "code",
   "execution_count": 17,
   "id": "33d36410-5224-481b-a3a7-b6d07df73be7",
   "metadata": {},
   "outputs": [],
   "source": [
    "def al(l):\n",
    "    for i in range(5):\n",
    "        print( l[i])"
   ]
  },
  {
   "cell_type": "code",
   "execution_count": 18,
   "id": "1a136b2d-f5ef-44ca-b14f-78cb24226b00",
   "metadata": {},
   "outputs": [
    {
     "name": "stdout",
     "output_type": "stream",
     "text": [
      "2\n",
      "4\n",
      "6\n",
      "8\n",
      "10\n"
     ]
    }
   ],
   "source": [
    "al(alst)"
   ]
  },
  {
   "cell_type": "code",
   "execution_count": null,
   "id": "f6da5e0d-03a4-48ae-af14-fc3738da5a67",
   "metadata": {},
   "outputs": [],
   "source": []
  },
  {
   "cell_type": "markdown",
   "id": "7af2134b-db50-4f70-b10f-546ec2c6828e",
   "metadata": {
    "jp-MarkdownHeadingCollapsed": true,
    "tags": []
   },
   "source": [
    "### Q4. What is a generator function in python? Why yield keyword is used? Give an example of a generator function."
   ]
  },
  {
   "cell_type": "code",
   "execution_count": 19,
   "id": "f2eeeb70-ec4c-4ef2-8b6f-eda9b26caedb",
   "metadata": {},
   "outputs": [
    {
     "data": {
      "text/plain": [
       "<generator object tfb at 0x7f7054fe9a10>"
      ]
     },
     "execution_count": 19,
     "metadata": {},
     "output_type": "execute_result"
    }
   ],
   "source": [
    "def tfb(n):\n",
    "    a,b =0,1\n",
    "    for i in range(n):\n",
    "        yield a\n",
    "        a,b =b, a+b\n",
    "    \n",
    "tfb(10)    "
   ]
  },
  {
   "cell_type": "code",
   "execution_count": 20,
   "id": "3aa763ce-fc4d-48b2-aeb7-303c69b19a7f",
   "metadata": {},
   "outputs": [
    {
     "name": "stdout",
     "output_type": "stream",
     "text": [
      "0\n",
      "1\n",
      "1\n",
      "2\n",
      "3\n",
      "5\n",
      "8\n",
      "13\n",
      "21\n",
      "34\n"
     ]
    }
   ],
   "source": [
    "for i in tfb(10):\n",
    "    print(i)"
   ]
  },
  {
   "cell_type": "markdown",
   "id": "b456ef0f-098d-4998-ab0c-718b4065f9c0",
   "metadata": {},
   "source": [
    "When we have bigger data it will take time to iterate through 1 by 1 element using regular range method\n",
    "Yield helps to give output in lesser memory because it generates from last elements without storing it to the memory."
   ]
  },
  {
   "cell_type": "code",
   "execution_count": null,
   "id": "798f4266-84c7-4e55-b913-32d6f080b636",
   "metadata": {},
   "outputs": [],
   "source": []
  },
  {
   "cell_type": "markdown",
   "id": "aaeaf813-a29f-40d2-ab6a-cf1ee37fd6f0",
   "metadata": {
    "jp-MarkdownHeadingCollapsed": true,
    "tags": []
   },
   "source": [
    "### Q5. Create a generator function for prime numbers less than 1000. Use the next() method to print thefirst 20 prime numbers."
   ]
  },
  {
   "cell_type": "code",
   "execution_count": 21,
   "id": "6b2eb633-1b88-44d7-9f16-ae15500718e4",
   "metadata": {},
   "outputs": [
    {
     "name": "stdout",
     "output_type": "stream",
     "text": [
      "2\n",
      "3\n",
      "5\n",
      "7\n",
      "11\n",
      "13\n",
      "17\n",
      "19\n",
      "23\n",
      "29\n",
      "31\n",
      "37\n",
      "41\n",
      "43\n",
      "47\n",
      "53\n",
      "59\n",
      "61\n",
      "67\n",
      "71\n"
     ]
    }
   ],
   "source": [
    "def pm(n):\n",
    "    for i in range(n):\n",
    "        \n",
    "        s=True\n",
    "        if n <2:\n",
    "            s = False\n",
    "        else:\n",
    "            for i in range(2,n):\n",
    "                if n% i == 0:\n",
    "                    s = False\n",
    "        return s\n",
    "a=[]\n",
    "lis =iter(a)\n",
    "for n in range(1000):\n",
    "    if pm(n):\n",
    "        a.append(n)\n",
    "ab=next(lis)\n",
    "print(ab)\n",
    "ab=next(lis)\n",
    "print(ab)\n",
    "ab=next(lis)\n",
    "print(ab)\n",
    "ab=next(lis)\n",
    "print(ab)\n",
    "ab=next(lis)\n",
    "print(ab)\n",
    "ab=next(lis)\n",
    "print(ab)\n",
    "ab=next(lis)\n",
    "print(ab)\n",
    "ab=next(lis)\n",
    "print(ab)\n",
    "ab=next(lis)\n",
    "print(ab)\n",
    "ab=next(lis)\n",
    "print(ab)\n",
    "ab=next(lis)\n",
    "print(ab)\n",
    "ab=next(lis)\n",
    "print(ab)\n",
    "ab=next(lis)\n",
    "print(ab)\n",
    "ab=next(lis)\n",
    "print(ab)\n",
    "ab=next(lis)\n",
    "print(ab)\n",
    "ab=next(lis)\n",
    "print(ab)\n",
    "ab=next(lis)\n",
    "print(ab)\n",
    "ab=next(lis)\n",
    "print(ab)\n",
    "ab=next(lis)\n",
    "print(ab)\n",
    "ab=next(lis)\n",
    "print(ab)"
   ]
  },
  {
   "cell_type": "code",
   "execution_count": null,
   "id": "30d8413a-99ee-4a05-bf32-4462ef41caa7",
   "metadata": {},
   "outputs": [],
   "source": []
  },
  {
   "cell_type": "code",
   "execution_count": null,
   "id": "220cfda4-21f3-4935-9641-035fe6cf7c5c",
   "metadata": {},
   "outputs": [],
   "source": []
  },
  {
   "cell_type": "code",
   "execution_count": null,
   "id": "74e48a63-15c5-421a-8a3b-7660873b6fb3",
   "metadata": {},
   "outputs": [],
   "source": []
  },
  {
   "cell_type": "code",
   "execution_count": null,
   "id": "54fabb41-0aef-47c3-ab04-c8146e26d839",
   "metadata": {},
   "outputs": [],
   "source": []
  }
 ],
 "metadata": {
  "kernelspec": {
   "display_name": "Python 3 (ipykernel)",
   "language": "python",
   "name": "python3"
  },
  "language_info": {
   "codemirror_mode": {
    "name": "ipython",
    "version": 3
   },
   "file_extension": ".py",
   "mimetype": "text/x-python",
   "name": "python",
   "nbconvert_exporter": "python",
   "pygments_lexer": "ipython3",
   "version": "3.10.8"
  }
 },
 "nbformat": 4,
 "nbformat_minor": 5
}
